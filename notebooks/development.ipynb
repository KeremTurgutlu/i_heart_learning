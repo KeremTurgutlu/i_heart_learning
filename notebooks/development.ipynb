{
 "cells": [
  {
   "cell_type": "code",
   "execution_count": 8,
   "metadata": {},
   "outputs": [],
   "source": [
    "\"\"\"Parsing code for DICOMS and contour files\"\"\"\n",
    "\n",
    "import dicom\n",
    "from dicom.errors import InvalidDicomError\n",
    "\n",
    "import numpy as np\n",
    "from PIL import Image, ImageDraw"
   ]
  },
  {
   "cell_type": "markdown",
   "metadata": {},
   "source": [
    "### Provided Code"
   ]
  },
  {
   "cell_type": "code",
   "execution_count": 2,
   "metadata": {},
   "outputs": [],
   "source": [
    "def parse_dicom_file(filename):\n",
    "    \"\"\"Parse the given DICOM filename\n",
    "\n",
    "    :param filename: filepath to the DICOM file to parse\n",
    "    :return: dictionary with DICOM image data\n",
    "    \"\"\"\n",
    "\n",
    "    try:\n",
    "        # extract pixel array\n",
    "        dcm = dicom.read_file(filename)\n",
    "        dcm_image = dcm.pixel_array\n",
    "        \n",
    "        # linear transformation from disk to memory representation\n",
    "        # do only if rescale and slope is not 0 else leave disk\n",
    "        try:\n",
    "            intercept = dcm.RescaleIntercept\n",
    "        except AttributeError:\n",
    "            intercept = 0.0\n",
    "        try:\n",
    "            slope = dcm.RescaleSlope\n",
    "        except AttributeError:\n",
    "            slope = 0.0\n",
    "        if intercept != 0.0 and slope != 0.0:\n",
    "            dcm_image = dcm_image*slope + intercept\n",
    "        \n",
    "        # store in dict\n",
    "        #dcm_dict = {'pixel_data' : dcm_image}\n",
    "        #return dcm_dict\n",
    "        \n",
    "        # CHANGE IN CODE\n",
    "        # we are returning only pixel array \n",
    "        # we don't need to create a dict for that\n",
    "        return dcm_image\n",
    "        \n",
    "    except InvalidDicomError:\n",
    "        return None\n",
    "\n",
    "    \n",
    "def parse_contour_file(filename):\n",
    "    \"\"\"Parse the given contour filename, if file\n",
    "    can't be read give IOError\n",
    "    \n",
    "    :param filename: filepath to the contourfile to parse\n",
    "    :return: list of tuples holding x, y coordinates of the contour\n",
    "    \"\"\"\n",
    "\n",
    "    coords_lst = []\n",
    "    with open(filename, 'r') as infile:\n",
    "        for line in infile:\n",
    "            coords = line.strip().split()\n",
    "\n",
    "            x_coord = float(coords[0])\n",
    "            y_coord = float(coords[1])\n",
    "            coords_lst.append((x_coord, y_coord))\n",
    "    return coords_lst\n",
    "\n",
    "def poly_to_mask(polygon, width, height):\n",
    "    \"\"\"Convert polygon to mask\n",
    "\n",
    "    :param polygon: list of pairs of x, y coords [(x1, y1), (x2, y2), ...]\n",
    "     in units of pixels\n",
    "    :param width: scalar image width\n",
    "    :param height: scalar image height\n",
    "    :return: Boolean mask of shape (height, width)\n",
    "    \"\"\"\n",
    "\n",
    "    #c\n",
    "    img = Image.new(mode='L', size=(width, height), color=0)\n",
    "    ImageDraw.Draw(img).polygon(xy=polygon, outline=0, fill=1)\n",
    "    mask = np.array(img).astype(bool)\n",
    "    return mask"
   ]
  },
  {
   "cell_type": "markdown",
   "metadata": {},
   "source": [
    "**Part 1: Parse the DICOM images and Contour Files**\n",
    "\n",
    "**How did you verify ...**\n",
    "\n",
    "By Visualizing.\n",
    "\n",
    "**What changes did you make to the code, ...**\n",
    "\n",
    "I didn't change much rather built my code around it. I only change return of `parse_dicom_file` be np.array.\n"
   ]
  },
  {
   "cell_type": "markdown",
   "metadata": {},
   "source": [
    "### NOTES\n",
    "\n",
    "**Invalid Files**\n",
    "\n",
    "There are dot files in the directories seems to be invalid while reading. Ignore dot files.\n",
    "\n",
    "**Matching Problem : Image - Contour**\n",
    "\n",
    "Assuming `IM-0001-0208` refers to slice 208 in `/...208.dcm`. But often it's better to get instances by looking at metadata provided in contour files. They will have InstanceID which will indicated the correct dicom image ID to match that particular contour. I would change this aspect of the pipeline, this might cause problems during matching if filenames are corrupted.\n",
    "\n",
    "`'final_data/contourfiles/SC-HF-I-1/i-contours/._IM-0001-0208-icontour-manual.txt'`\n",
    "\n",
    "**Code Check**\n",
    "\n",
    "Visualization \n",
    "\n",
    "/images\n",
    "        \n",
    "    /i_contour\n",
    "        \n",
    "        /patient_dicom_id\n",
    "        \n",
    "            /slice_xx.png\n",
    "   \n",
    "    /o_contour\n",
    "        \n",
    "        /patient_dicom_id\n",
    "        \n",
    "            /slice_xx.png"
   ]
  },
  {
   "cell_type": "code",
   "execution_count": 5,
   "metadata": {},
   "outputs": [],
   "source": [
    "from pathlib import Path\n",
    "import pandas as pd\n",
    "import matplotlib.pyplot as plt"
   ]
  },
  {
   "cell_type": "code",
   "execution_count": 7,
   "metadata": {},
   "outputs": [
    {
     "data": {
      "text/plain": [
       "[PosixPath('../final_data/dicoms'),\n",
       " PosixPath('../final_data/images'),\n",
       " PosixPath('../final_data/contourfiles'),\n",
       " PosixPath('../final_data/link.csv')]"
      ]
     },
     "execution_count": 7,
     "metadata": {},
     "output_type": "execute_result"
    }
   ],
   "source": [
    "final_data = list(Path('../final_data/').iterdir())\n",
    "final_data"
   ]
  },
  {
   "cell_type": "code",
   "execution_count": 5,
   "metadata": {},
   "outputs": [],
   "source": [
    "# pathlib objects\n",
    "dicoms_path = final_data[0]\n",
    "contourfiles_path = final_data[2]\n",
    "link = pd.read_csv(final_data[3])"
   ]
  },
  {
   "cell_type": "code",
   "execution_count": 6,
   "metadata": {},
   "outputs": [],
   "source": [
    "# rename dataframe columns for explicity\n",
    "link = link.rename(columns={'patient_id':'dicoms', 'original_id':'contourfiles'})\n",
    "\n",
    "# create link pairs of dicom_id anf contourfiles_id\n",
    "link_pairs = list(zip(link['dicoms'], link['contourfiles']))"
   ]
  },
  {
   "cell_type": "code",
   "execution_count": 7,
   "metadata": {},
   "outputs": [],
   "source": [
    "def get_patient_ids(link_pairs, i):\n",
    "    \"\"\"\n",
    "    Get i th patient dicom and contour ids\n",
    "    link_pairs (list): list of tuples that have patient_id and original_id\n",
    "    \"\"\"\n",
    "    patient_dicom_id, patient_contour_id = link_pairs[i][0], link_pairs[i][1]\n",
    "    return patient_dicom_id, patient_contour_id"
   ]
  },
  {
   "cell_type": "code",
   "execution_count": 8,
   "metadata": {},
   "outputs": [],
   "source": [
    "def get_patient_files(patient_dicom_id, patient_contour_id,\n",
    "                      dicoms_path, contourfiles_path, verbose=True):\n",
    "    \"\"\"\n",
    "    Get all dicom, i_contour and o_contour filenames of a given paient.\n",
    "    Inputs:\n",
    "        patient_dicom_id (pathlib.PosixPath): directory name for dicom files\n",
    "        patient_contour_id (pathlib.PosixPath): directory name for contours\n",
    "        dicoms_path (pathlib.PosixPath): main directory path for dicoms\n",
    "        contours_path (pathlib.PosixPath): main directory path for contours\n",
    "    Return:\n",
    "        dicoms_valid (list): list of dicom image file paths\n",
    "        i_contours_valid (list): list of i_contours file paths\n",
    "        o_contours_valid (list): list of o_contours file paths\n",
    "    \"\"\"\n",
    "    # extract all pathlib objects in directories\n",
    "    dicoms = list((dicoms_path/patient_dicom_id).iterdir())\n",
    "    i_contours = list((contourfiles_path/patient_contour_id/'i-contours').iterdir())\n",
    "    o_contours = list((contourfiles_path/patient_contour_id/'o-contours').iterdir())\n",
    "    \n",
    "    # extract non-dot files as valid files\n",
    "    dicoms_valid = [str(o) for o in dicoms if o.name[0] != '.']\n",
    "    i_contours_valid = [str(o) for o in i_contours if o.name[0] != '.']\n",
    "    o_contours_valid = [str(o) for o in o_contours if o.name[0] != '.']\n",
    "    \n",
    "    if verbose:\n",
    "        \n",
    "        print(f\"# of dicoms : {len(dicoms)}, i_contours : \\\n",
    "{len(i_contours)}, o_contours : {len(o_contours)}\")\n",
    "\n",
    "        print(f\"# of valid dicoms : {len(dicoms_valid)}, \\\n",
    "        i_contours : {len(i_contours_valid)}, \\\n",
    "o_contours : {len(o_contours_valid)}\")\n",
    "    \n",
    "    return (dicoms_valid, i_contours_valid, o_contours_valid)"
   ]
  },
  {
   "cell_type": "code",
   "execution_count": 9,
   "metadata": {},
   "outputs": [],
   "source": [
    "# sample patient i\n",
    "i = 2\n",
    "patient_dicom_id, patient_contour_id = get_patient_ids(link_pairs, i)"
   ]
  },
  {
   "cell_type": "code",
   "execution_count": 10,
   "metadata": {},
   "outputs": [
    {
     "name": "stdout",
     "output_type": "stream",
     "text": [
      "# of dicoms : 400, i_contours : 40, o_contours : 20\n",
      "# of valid dicoms : 200, i_contours : 20, o_contours : 10\n"
     ]
    }
   ],
   "source": [
    "# extract filennames for the given patient\n",
    "dicoms, i_contours, o_contours = get_patient_files(patient_dicom_id, patient_contour_id,\n",
    "                                                  dicoms_path, contourfiles_path)"
   ]
  },
  {
   "cell_type": "code",
   "execution_count": 11,
   "metadata": {},
   "outputs": [],
   "source": [
    "def dicom_slice_dict(dicoms):\n",
    "    \"\"\"\n",
    "    creates a slice dict in order\n",
    "    Input:\n",
    "        dicoms (list): valid dicom files of a patient\n",
    "    Return:\n",
    "        dicoms_dict (dict): ordered dict by slice order\n",
    "    \"\"\"\n",
    "    dicoms_dict = {}\n",
    "    for dicom_fn in dicoms:\n",
    "        slice_no = int(dicom_fn.split('/')[-1].split('.')[0])\n",
    "        dicoms_dict[slice_no] = dicom_fn\n",
    "    return dicoms_dict"
   ]
  },
  {
   "cell_type": "code",
   "execution_count": 12,
   "metadata": {},
   "outputs": [],
   "source": [
    "def contour_slice_dict(contours):\n",
    "    \"\"\"\n",
    "    creates a slice dict in order for contour files\n",
    "    Input:\n",
    "        contours (list): valid contour files of a patient\n",
    "    Return:\n",
    "        contours_dict (dict): ordered dict by slice order\n",
    "    \"\"\"\n",
    "    contours_dict = {}\n",
    "    for contour_fn in contours:\n",
    "        slice_no = int(contour_fn.split('/')[-1].split('-')[2])\n",
    "        contours_dict[slice_no] = contour_fn\n",
    "    return contours_dict"
   ]
  },
  {
   "cell_type": "code",
   "execution_count": 13,
   "metadata": {},
   "outputs": [],
   "source": [
    "dicoms_dict = dicom_slice_dict(dicoms)\n",
    "i_contours_dict = contour_slice_dict(i_contours)\n",
    "o_contours_dict = contour_slice_dict(o_contours)"
   ]
  },
  {
   "cell_type": "code",
   "execution_count": 14,
   "metadata": {},
   "outputs": [],
   "source": [
    "def patient_files_dict(dicoms_dict, i_contours_dict, o_contours_dict):\n",
    "    \"\"\"\n",
    "    Create an ordered dictionary containing list of\n",
    "    dicom filepath, i_contour path, o_contour_path\n",
    "    \n",
    "    Inputs:\n",
    "        dicoms_dict (dict): ordered dict of dicom files\n",
    "        i_contours_dict (dict): ordered dict of i_contour files\n",
    "        o_contours_dict (dict): ordered dict of o_contour files\n",
    "    \n",
    "    Return:\n",
    "        patient_files_dict (dict): ordered dict with same size as \n",
    "        original dicom images containing \n",
    "        \n",
    "        list for [dicom file path, i_contour file path, o_contour file path]\n",
    "    \"\"\"\n",
    "    patient_files_dict = {}\n",
    "    for slice_no in dicoms_dict:\n",
    "        dicom_fname = dicoms_dict.get(slice_no)\n",
    "        i_contour_fname = i_contours_dict.get(slice_no)\n",
    "        o_contour_fname = o_contours_dict.get(slice_no)\n",
    "        \n",
    "        patient_files_dict[slice_no] = {'dicom_fname': dicom_fname, \n",
    "                                        'i_contour_fname': i_contour_fname,\n",
    "                                        'o_contour_fname': o_contour_fname}\n",
    "    return patient_files_dict"
   ]
  },
  {
   "cell_type": "code",
   "execution_count": 15,
   "metadata": {},
   "outputs": [],
   "source": [
    "# storing this better for memory issues \n",
    "# we can use these paths for Dataloader\n",
    "all_files_dict = patient_files_dict(dicoms_dict, i_contours_dict, o_contours_dict)"
   ]
  },
  {
   "cell_type": "markdown",
   "metadata": {},
   "source": [
    "### Plot for sanity check\n",
    "\n",
    "The best way of verifying your data and target in object detection or segmentation tasks is to actually visually inspect them. That's what top CV engineers including all Kaggle Grandmasters recommend. Of course, if there is a mistake made in metadata and if we suspect that some contours are very off even though some of them are correct, it's better to show it to a medical expert for verification. E.g, when I was working with tumor segmentation data some of the tumors on the same slice were left unlabeled. Code was working and it turned out that only the tumors that would be treated were labeled in this dataset. This kind of situations affects our ground-truth and confuses the models, so they should be taken care of with caution. "
   ]
  },
  {
   "cell_type": "code",
   "execution_count": 16,
   "metadata": {},
   "outputs": [],
   "source": [
    "def show_img_msk_fromarray(img_arr, msk_arr, alpha=0.35, sz=7, cmap='inferno', save_path=None):\n",
    "\n",
    "    \"\"\"\n",
    "    Show original image and masked on top of image\n",
    "    next to each other in desired size\n",
    "    Input:\n",
    "        img_arr (np.array): array of the image\n",
    "        msk_arr (np.array): array of the mask\n",
    "        alpha (float): a number between 0 and 1 for mask transparency\n",
    "        sz (int): figure size for display\n",
    "        save_path (str): path to save the figure\n",
    "    \"\"\"\n",
    "\n",
    "    msk_arr = np.ma.masked_where(msk_arr == 0, msk_arr)\n",
    "    plt.figure(figsize=(sz, sz))\n",
    "    plt.subplot(1, 2, 1)\n",
    "    plt.imshow(img_arr)\n",
    "    plt.imshow(msk_arr, cmap=cmap, alpha=alpha)\n",
    "    plt.subplot(1, 2, 2)\n",
    "    plt.imshow(img_arr)\n",
    "    if save_path is None:\n",
    "        plt.show()\n",
    "    else:\n",
    "        plt.savefig(save_path)\n",
    "        plt.close()"
   ]
  },
  {
   "cell_type": "markdown",
   "metadata": {},
   "source": [
    "### Part 1 Full Pipeline\n",
    "\n",
    "1) Get patient id s for a given patient from the csv file\n",
    "\n",
    "2) Extract filenames for the same patient - dicoms, i_contours, o_contours\n",
    "\n",
    "3) Create ordered dict for dicoms and contours: as `{order : filename}`\n",
    "\n",
    "4) Collect all order matching files: as `{order: [dicom, i_contour, o_contour]}` \n",
    "\n",
    "\n",
    "**Note: I like to keep things at patient level rather than joinining all patient files together since files of each patient are dependent and in future (for 3D applications) Dataloader will need this information**"
   ]
  },
  {
   "cell_type": "code",
   "execution_count": 17,
   "metadata": {},
   "outputs": [],
   "source": [
    "class Patient:\n",
    "    def __init__(self, dicom_id, contour_id, dicoms_path, contourfiles_path):\n",
    "        \"\"\"\n",
    "        dicom_id (str): directory name under \"dicoms/\" \n",
    "        contour_id (str): directory name under \"contourfiles/\"\n",
    "        dicoms_path (pathlib.PosixPath): pathlib object for dicoms parent dir\n",
    "        contourfiles_path (pathlib.PosixPath): pathlib object for contourfiles parent dir\n",
    "        \"\"\"\n",
    "        \n",
    "        self.dicom_id = dicom_id\n",
    "        self.contour_id = contour_id\n",
    "        self.dicoms_path = dicoms_path\n",
    "        self.contourfiles_path = contourfiles_path\n",
    "        \n",
    "    def create_file_lists(self, verbose=True):\n",
    "        \"\"\"\n",
    "        Creates lists for dicom, i_contour and o_contour files\n",
    "        \"\"\"\n",
    "        self.dicoms, self.i_contours, self.o_contours = get_patient_files(self.dicom_id, self.contour_id,\n",
    "                                                  self.dicoms_path, self.contourfiles_path, verbose)\n",
    "    \n",
    "    def create_file_dicts(self, verbose=True):\n",
    "        \"\"\"\n",
    "        Creates ordered dicts for dicoms, i_contours, o_contours filenames and all files combined\n",
    "        \"\"\"\n",
    "        if not hasattr(self, 'dicoms'):\n",
    "            self.create_file_lists(verbose)\n",
    "        \n",
    "        #pdb.set_trace()\n",
    "        \n",
    "        self.dicoms_dict = dicom_slice_dict(self.dicoms)\n",
    "        self.i_contours_dict = contour_slice_dict(self.i_contours)\n",
    "        self.o_contours_dict = contour_slice_dict(self.o_contours)\n",
    "        self.all_files_dict = patient_files_dict(self.dicoms_dict, self.i_contours_dict, self.o_contours_dict)\n",
    "    \n",
    "    def create_numpy_arrays(self, verbose=True):\n",
    "        \"\"\"\n",
    "        Creates ordered dict of dicts having np.array for dicom, i_contour and o_contour\n",
    "        \"\"\"\n",
    "        if not hasattr(self, 'all_files_dict'):\n",
    "            self.create_file_dicts(verbose)\n",
    "            \n",
    "        self.all_numpy_dict = {}\n",
    "        for slice_no in self.all_files_dict:\n",
    "            \n",
    "            dicom_fn =  self.all_files_dict[slice_no]['dicom_fname']\n",
    "            i_contour_fn = self.all_files_dict[slice_no]['i_contour_fname']\n",
    "            o_contour_fn = self.all_files_dict[slice_no]['o_contour_fname']\n",
    "\n",
    "            # parse dicom\n",
    "            if dicom_fn is not None:\n",
    "                img_array = parse_dicom_file(dicom_fn)\n",
    "            else: img_array = None\n",
    "\n",
    "            if img_array is not None:\n",
    "                # get image size\n",
    "                H, W = img_array.shape\n",
    "\n",
    "                # parse i_contour\n",
    "                if i_contour_fn is not None: \n",
    "                    i_contour_array = poly_to_mask(parse_contour_file(i_contour_fn)\n",
    "                                                   , W, H).astype(np.uint8)\n",
    "                else: i_contour_array = None\n",
    "\n",
    "                # parse o_contour\n",
    "                if o_contour_fn is not None: \n",
    "                    o_contour_array = poly_to_mask(parse_contour_file(o_contour_fn)\n",
    "                                                   , W, H).astype(np.uint8)\n",
    "                else: o_contour_array = None\n",
    "            else: img_array, i_contour_array, o_contour_array = None, None, None\n",
    "        \n",
    "            self.all_numpy_dict[slice_no] = {'dicom_array': img_array, \n",
    "                                        'i_contour_array': i_contour_array,\n",
    "                                        'o_contour_array': o_contour_array}\n",
    "            "
   ]
  },
  {
   "cell_type": "code",
   "execution_count": 18,
   "metadata": {},
   "outputs": [
    {
     "data": {
      "text/plain": [
       "(PosixPath('final_data/dicoms'), PosixPath('final_data/contourfiles'))"
      ]
     },
     "execution_count": 18,
     "metadata": {},
     "output_type": "execute_result"
    }
   ],
   "source": [
    "dicoms_path, contourfiles_path"
   ]
  },
  {
   "cell_type": "code",
   "execution_count": 19,
   "metadata": {},
   "outputs": [],
   "source": [
    "# sample i th patient\n",
    "i = 0\n",
    "patient_dicom_id, patient_contour_id = get_patient_ids(link_pairs, i)"
   ]
  },
  {
   "cell_type": "code",
   "execution_count": 20,
   "metadata": {},
   "outputs": [
    {
     "data": {
      "text/plain": [
       "('SCD0000101', 'SC-HF-I-1')"
      ]
     },
     "execution_count": 20,
     "metadata": {},
     "output_type": "execute_result"
    }
   ],
   "source": [
    "patient_dicom_id, patient_contour_id"
   ]
  },
  {
   "cell_type": "code",
   "execution_count": 21,
   "metadata": {},
   "outputs": [],
   "source": [
    "# init patient\n",
    "patient0 = Patient(patient_dicom_id, patient_contour_id, dicoms_path, contourfiles_path)"
   ]
  },
  {
   "cell_type": "code",
   "execution_count": 22,
   "metadata": {},
   "outputs": [
    {
     "name": "stdout",
     "output_type": "stream",
     "text": [
      "# of dicoms : 480, i_contours : 36, o_contours : 18\n",
      "# of valid dicoms : 240, i_contours : 18, o_contours : 9\n"
     ]
    }
   ],
   "source": [
    "# let's create all numpy arrays\n",
    "patient0.create_numpy_arrays()"
   ]
  },
  {
   "cell_type": "code",
   "execution_count": 23,
   "metadata": {},
   "outputs": [],
   "source": [
    "numpy_dict = patient0.all_numpy_dict"
   ]
  },
  {
   "cell_type": "markdown",
   "metadata": {},
   "source": [
    "### Create i_contour images\n",
    "\n",
    "1) Let's go ahead an initialize every patient\n",
    "\n",
    "2) Create a folder by their name\n",
    "\n",
    "3) Save all i_contour-images under that folder"
   ]
  },
  {
   "cell_type": "code",
   "execution_count": 735,
   "metadata": {},
   "outputs": [],
   "source": [
    "# create the images folder\n",
    "#os.makedirs('final_data/images/', exist_ok=False)\n",
    "#os.makedirs('final_data/images/i_contour/', exist_ok=False)\n",
    "#os.makedirs('final_data/images/o_contour/', exist_ok=False)"
   ]
  },
  {
   "cell_type": "code",
   "execution_count": 24,
   "metadata": {},
   "outputs": [
    {
     "data": {
      "text/plain": [
       "[('SCD0000101', 'SC-HF-I-1'),\n",
       " ('SCD0000201', 'SC-HF-I-2'),\n",
       " ('SCD0000301', 'SC-HF-I-4'),\n",
       " ('SCD0000401', 'SC-HF-I-5'),\n",
       " ('SCD0000501', 'SC-HF-I-6')]"
      ]
     },
     "execution_count": 24,
     "metadata": {},
     "output_type": "execute_result"
    }
   ],
   "source": [
    "link_pairs"
   ]
  },
  {
   "cell_type": "code",
   "execution_count": 737,
   "metadata": {},
   "outputs": [],
   "source": [
    "# initialize all patients\n",
    "all_patients = []\n",
    "\n",
    "for patient_dicom_id, patient_contour_id in link_pairs:\n",
    "    patient = Patient(patient_dicom_id, patient_contour_id, dicoms_path, contourfiles_path)\n",
    "    all_patients.append(patient)"
   ]
  },
  {
   "cell_type": "code",
   "execution_count": 4,
   "metadata": {},
   "outputs": [],
   "source": [
    "def save_images(all_patients, contour_type = 'i_contour', main_dir='final_data/images/'):\n",
    "    \"\"\"\n",
    "    Save dicom images and images with masks on top of the corresponding images.\n",
    "    All files will will be saved under main dir by creating a new folder\n",
    "    for contour type and then by creating a folder for each patient separately\n",
    "    \n",
    "    all_patients (list): list of Patient objects\n",
    "    contour_type (str): either \"i_contour\" or \"o_contour\"\n",
    "    \"\"\"\n",
    "    for patient in all_patients:\n",
    "        print(patient.dicom_id)\n",
    "        # create patient images folder\n",
    "        dirname = main_dir + f'{contour_type}/{patient.dicom_id}/'\n",
    "        os.makedirs(dirname, exist_ok=True)\n",
    "\n",
    "        # create numpy arrays for the patient\n",
    "        patient.create_numpy_arrays()\n",
    "        \n",
    "        # loop over slices in numpy array dict\n",
    "        for slice_no in patient.all_numpy_dict:\n",
    "            slice_dict = patient.all_numpy_dict[slice_no]\n",
    "\n",
    "            # only show image for given contour type\n",
    "            if slice_dict[f'{contour_type}_array'] is not None:\n",
    "                img_array, msk_array = slice_dict['dicom_array'], slice_dict[f'{contour_type}_array']\n",
    "                show_img_msk_fromarray(img_array, msk_array, cmap='Wistia', sz=10, alpha=0.7,\n",
    "                                       save_path= dirname + f'slice_{slice_no}.png')"
   ]
  },
  {
   "cell_type": "code",
   "execution_count": 740,
   "metadata": {},
   "outputs": [
    {
     "name": "stdout",
     "output_type": "stream",
     "text": [
      "SCD0000101\n",
      "SCD0000201\n",
      "SCD0000301\n",
      "SCD0000401\n",
      "SCD0000501\n"
     ]
    }
   ],
   "source": [
    "# save for i_contour\n",
    "save_images(all_patients)"
   ]
  },
  {
   "cell_type": "code",
   "execution_count": 741,
   "metadata": {},
   "outputs": [
    {
     "name": "stdout",
     "output_type": "stream",
     "text": [
      "SCD0000101\n",
      "SCD0000201\n",
      "SCD0000301\n",
      "SCD0000401\n",
      "SCD0000501\n"
     ]
    }
   ],
   "source": [
    "# save for o_contour\n",
    "save_images(all_patients, contour_type='o_contour')"
   ]
  },
  {
   "cell_type": "code",
   "execution_count": 754,
   "metadata": {},
   "outputs": [],
   "source": [
    "i = 0\n",
    "for k in all_patients[4].all_files_dict:\n",
    "    if all_patients[4].all_files_dict[k]['i_contour_fname'] is not None:\n",
    "        i += 1"
   ]
  },
  {
   "cell_type": "code",
   "execution_count": 763,
   "metadata": {},
   "outputs": [
    {
     "data": {
      "image/png": "[encoded data removed]",
      "text/plain": [
       "<PIL.PngImagePlugin.PngImageFile image mode=RGBA size=720x720 at 0x7F29CCC57CF8>"
      ]
     },
     "execution_count": 763,
     "metadata": {},
     "output_type": "execute_result"
    }
   ],
   "source": [
    "# There seems to be a shift in mask for SCD0000501 in o_contour\n",
    "Image.open('../final_data/images/o_contour/SCD0000501/slice_199.png')"
   ]
  },
  {
   "cell_type": "markdown",
   "metadata": {},
   "source": [
    "### Part 2 Dataset and Dataloader for 2D - PyTorch"
   ]
  },
  {
   "cell_type": "code",
   "execution_count": 25,
   "metadata": {},
   "outputs": [],
   "source": [
    "# initialize all patients\n",
    "all_patients = []\n",
    "\n",
    "for patient_dicom_id, patient_contour_id in link_pairs:\n",
    "    patient = Patient(patient_dicom_id, patient_contour_id, dicoms_path, contourfiles_path)\n",
    "    all_patients.append(patient)"
   ]
  },
  {
   "cell_type": "code",
   "execution_count": 26,
   "metadata": {},
   "outputs": [
    {
     "name": "stdout",
     "output_type": "stream",
     "text": [
      "# of dicoms : 480, i_contours : 36, o_contours : 18\n",
      "# of valid dicoms : 240, i_contours : 18, o_contours : 9\n",
      "# of dicoms : 520, i_contours : 36, o_contours : 18\n",
      "# of valid dicoms : 260, i_contours : 18, o_contours : 9\n",
      "# of dicoms : 400, i_contours : 40, o_contours : 20\n",
      "# of valid dicoms : 200, i_contours : 20, o_contours : 10\n",
      "# of dicoms : 440, i_contours : 36, o_contours : 18\n",
      "# of valid dicoms : 220, i_contours : 18, o_contours : 9\n",
      "# of dicoms : 440, i_contours : 44, o_contours : 18\n",
      "# of valid dicoms : 220, i_contours : 22, o_contours : 9\n"
     ]
    }
   ],
   "source": [
    "# create file dicts for each patient\n",
    "for patient in all_patients:\n",
    "    patient.create_file_dicts()"
   ]
  },
  {
   "cell_type": "code",
   "execution_count": 64,
   "metadata": {},
   "outputs": [],
   "source": [
    "# dicom_contour_fnames = []\n",
    "\n",
    "# patient = all_patients[0]\n",
    "# for patient in all_patients:\n",
    "#     for slice_no in patient.all_files_dict:\n",
    "#         slice_dict = patient.all_files_dict[slice_no]\n",
    "#         dicom_fname = slice_dict['dicom_fname']\n",
    "#         i_contour_fname = slice_dict['i_contour_fname']\n",
    "#         o_contour_fname = slice_dict['o_contour_fname']\n",
    "#         if i_contour_fname is not None:\n",
    "#             dicom_contour_fnames.append((dicom_fname, i_contour_fname))"
   ]
  },
  {
   "cell_type": "code",
   "execution_count": 106,
   "metadata": {},
   "outputs": [],
   "source": [
    "from torch.utils.data import *\n",
    "from torch import FloatTensor as FT"
   ]
  },
  {
   "cell_type": "code",
   "execution_count": 135,
   "metadata": {},
   "outputs": [],
   "source": [
    "class HeartDataset2D(Dataset):\n",
    "    \"\"\"\n",
    "    all_patients (list): list containing Patient objects\n",
    "    contour_type (str): either 'i_contour' or 'o_contour'\n",
    "    \"\"\"\n",
    "    def __init__(self, all_patients, contour_type):\n",
    "        \n",
    "        self.all_patients = all_patients\n",
    "        self.contour_type = contour_type\n",
    "        #self.model_type = model_type\n",
    "        \n",
    "        # get filenames\n",
    "        self.dicom_contour_fnames = []\n",
    "        for patient in self.all_patients:\n",
    "            # create all files dict\n",
    "            patient.create_file_dicts(False)\n",
    "            # loop over slices\n",
    "            for slice_no in patient.all_files_dict:\n",
    "                slice_dict = patient.all_files_dict[slice_no]\n",
    "                dicom_fname = slice_dict['dicom_fname']\n",
    "                contour_fname = slice_dict[f'{self.contour_type}_fname']\n",
    "                if contour_fname is not None:\n",
    "                    self.dicom_contour_fnames.append((dicom_fname, contour_fname))\n",
    "\n",
    "    def __getitem__(self, idx):\n",
    "        # get filename pair by idx\n",
    "        dicom_contour_fname = self.dicom_contour_fnames[idx]\n",
    "        dicom_fname, contour_fname = dicom_contour_fname[0], dicom_contour_fname[1]        \n",
    "        \n",
    "        #\n",
    "        img = parse_dicom_file(dicom_fname)\n",
    "        H, W = img.shape\n",
    "        msk = poly_to_mask(parse_contour_file(contour_fname), W, H).astype(np.uint8)\n",
    "        \n",
    "        return FT(img)[None, :], FT(msk)[None, :] # convert to FloatTensor and add channel (1)\n",
    "        \n",
    "    def __len__(self):\n",
    "        return len(self.dicom_contour_fnames)"
   ]
  },
  {
   "cell_type": "code",
   "execution_count": 138,
   "metadata": {},
   "outputs": [],
   "source": [
    "heart_ds = HeartDataset2D(all_patients, 'i_contour')"
   ]
  },
  {
   "cell_type": "code",
   "execution_count": 139,
   "metadata": {},
   "outputs": [],
   "source": [
    "heart_dl = DataLoader(heart_ds, batch_size=8, shuffle=True)"
   ]
  },
  {
   "cell_type": "code",
   "execution_count": 140,
   "metadata": {},
   "outputs": [],
   "source": [
    "X,Y =  next(iter(hearth_dl))"
   ]
  },
  {
   "cell_type": "code",
   "execution_count": 141,
   "metadata": {},
   "outputs": [
    {
     "data": {
      "text/plain": [
       "(torch.Size([8, 1, 256, 256]), torch.Size([8, 1, 256, 256]))"
      ]
     },
     "execution_count": 141,
     "metadata": {},
     "output_type": "execute_result"
    }
   ],
   "source": [
    "X.size(), Y.size()"
   ]
  },
  {
   "cell_type": "code",
   "execution_count": null,
   "metadata": {},
   "outputs": [],
   "source": []
  }
 ],
 "metadata": {
  "kernelspec": {
   "display_name": "Python 3",
   "language": "python",
   "name": "python3"
  },
  "language_info": {
   "codemirror_mode": {
    "name": "ipython",
    "version": 3
   },
   "file_extension": ".py",
   "mimetype": "text/x-python",
   "name": "python",
   "nbconvert_exporter": "python",
   "pygments_lexer": "ipython3",
   "version": "3.6.4"
  }
 },
 "nbformat": 4,
 "nbformat_minor": 2
}
